{
  "nbformat": 4,
  "nbformat_minor": 0,
  "metadata": {
    "colab": {
      "name": "intellihack_04.ipynb",
      "provenance": []
    },
    "kernelspec": {
      "name": "python3",
      "display_name": "Python 3"
    },
    "language_info": {
      "name": "python"
    }
  },
  "cells": [
    {
      "cell_type": "code",
      "execution_count": 150,
      "metadata": {
        "id": "oJdpqC9EpGwV"
      },
      "outputs": [],
      "source": [
        "import pandas as pd\n",
        "import numpy as np\n",
        "import matplotlib.pyplot as plt\n",
        "import sklearn\n",
        "import pickle\n",
        "from sklearn.model_selection import cross_val_score\n",
        "from sklearn.svm import SVC\n",
        "from sklearn.model_selection import RepeatedStratifiedKFold\n",
        "from sklearn import svm, datasets\n",
        "from sklearn.linear_model import LogisticRegression\n",
        "from sklearn.svm import SVC\n",
        "import sklearn\n",
        "from sklearn.model_selection import train_test_split\n",
        "import os\n",
        "import numpy as np\n",
        "import pandas as pd\n",
        "import matplotlib.pyplot as plt\n",
        "import seaborn as sns\n",
        "from sklearn.metrics import classification_report\n",
        "from sklearn import metrics\n",
        "\n",
        "from sklearn import tree\n",
        "import pandas as pd\n",
        "import matplotlib.pyplot as plt\n",
        "from sklearn.linear_model import LinearRegression\n",
        "from sklearn.model_selection import train_test_split\n",
        "from sklearn.tree import DecisionTreeRegressor\n",
        "from sklearn.preprocessing import PolynomialFeatures\n",
        "from sklearn.linear_model import LogisticRegression"
      ]
    },
    {
      "cell_type": "code",
      "source": [
        "train_data1=pd.read_csv('/content/train (1).csv')\n",
        "test_data1=pd.read_csv('/content/test (1).csv')"
      ],
      "metadata": {
        "id": "bl3P33w4qLgE"
      },
      "execution_count": 151,
      "outputs": []
    },
    {
      "cell_type": "code",
      "source": [
        "train_data=train_data1.fillna(0)\n",
        "test_data=test_data1.fillna(0)"
      ],
      "metadata": {
        "id": "BPpEn50SsjVY"
      },
      "execution_count": 152,
      "outputs": []
    },
    {
      "cell_type": "code",
      "source": [
        "train_data"
      ],
      "metadata": {
        "colab": {
          "base_uri": "https://localhost:8080/",
          "height": 487
        },
        "id": "mXZSn6i7qj7X",
        "outputId": "82c2d76a-0248-484c-9826-e7ca2783d064"
      },
      "execution_count": 185,
      "outputs": [
        {
          "output_type": "execute_result",
          "data": {
            "text/html": [
              "\n",
              "  <div id=\"df-25f814a1-fb1d-4b5c-a426-30c7b70d86a8\">\n",
              "    <div class=\"colab-df-container\">\n",
              "      <div>\n",
              "<style scoped>\n",
              "    .dataframe tbody tr th:only-of-type {\n",
              "        vertical-align: middle;\n",
              "    }\n",
              "\n",
              "    .dataframe tbody tr th {\n",
              "        vertical-align: top;\n",
              "    }\n",
              "\n",
              "    .dataframe thead th {\n",
              "        text-align: right;\n",
              "    }\n",
              "</style>\n",
              "<table border=\"1\" class=\"dataframe\">\n",
              "  <thead>\n",
              "    <tr style=\"text-align: right;\">\n",
              "      <th></th>\n",
              "      <th>id</th>\n",
              "      <th>a</th>\n",
              "      <th>b</th>\n",
              "      <th>c</th>\n",
              "      <th>d</th>\n",
              "      <th>e</th>\n",
              "      <th>f</th>\n",
              "      <th>g</th>\n",
              "      <th>h</th>\n",
              "      <th>i</th>\n",
              "      <th>j</th>\n",
              "      <th>k</th>\n",
              "      <th>l</th>\n",
              "      <th>m</th>\n",
              "      <th>n</th>\n",
              "      <th>o</th>\n",
              "      <th>y</th>\n",
              "    </tr>\n",
              "  </thead>\n",
              "  <tbody>\n",
              "    <tr>\n",
              "      <th>0</th>\n",
              "      <td>1433</td>\n",
              "      <td>1.051215</td>\n",
              "      <td>0.694597</td>\n",
              "      <td>-1.413287</td>\n",
              "      <td>-1.252365</td>\n",
              "      <td>-0.615017</td>\n",
              "      <td>0.359627</td>\n",
              "      <td>-0.598667</td>\n",
              "      <td>-0.253474</td>\n",
              "      <td>-0.778702</td>\n",
              "      <td>1.268325</td>\n",
              "      <td>0.386139</td>\n",
              "      <td>-1.177271</td>\n",
              "      <td>0.818531</td>\n",
              "      <td>1.627670</td>\n",
              "      <td>-0.287624</td>\n",
              "      <td>54.769288</td>\n",
              "    </tr>\n",
              "    <tr>\n",
              "      <th>1</th>\n",
              "      <td>1844</td>\n",
              "      <td>-0.827997</td>\n",
              "      <td>0.398669</td>\n",
              "      <td>0.977278</td>\n",
              "      <td>-2.670553</td>\n",
              "      <td>-0.790852</td>\n",
              "      <td>-0.159811</td>\n",
              "      <td>-1.589068</td>\n",
              "      <td>-0.617259</td>\n",
              "      <td>-0.185955</td>\n",
              "      <td>-0.841836</td>\n",
              "      <td>-0.175193</td>\n",
              "      <td>-1.828500</td>\n",
              "      <td>1.942039</td>\n",
              "      <td>-0.062611</td>\n",
              "      <td>0.928272</td>\n",
              "      <td>-47.364309</td>\n",
              "    </tr>\n",
              "    <tr>\n",
              "      <th>2</th>\n",
              "      <td>2433</td>\n",
              "      <td>-0.155385</td>\n",
              "      <td>2.087505</td>\n",
              "      <td>-0.146547</td>\n",
              "      <td>0.964401</td>\n",
              "      <td>0.364767</td>\n",
              "      <td>-0.054968</td>\n",
              "      <td>0.031525</td>\n",
              "      <td>-0.325107</td>\n",
              "      <td>-0.806470</td>\n",
              "      <td>0.533958</td>\n",
              "      <td>-0.392404</td>\n",
              "      <td>2.430794</td>\n",
              "      <td>0.484962</td>\n",
              "      <td>-0.064192</td>\n",
              "      <td>1.250374</td>\n",
              "      <td>486.137500</td>\n",
              "    </tr>\n",
              "    <tr>\n",
              "      <th>3</th>\n",
              "      <td>736</td>\n",
              "      <td>2.800855</td>\n",
              "      <td>-2.293238</td>\n",
              "      <td>-1.845457</td>\n",
              "      <td>-2.456946</td>\n",
              "      <td>1.172178</td>\n",
              "      <td>1.031117</td>\n",
              "      <td>2.696592</td>\n",
              "      <td>-0.488772</td>\n",
              "      <td>0.119387</td>\n",
              "      <td>0.885784</td>\n",
              "      <td>0.965804</td>\n",
              "      <td>-1.470270</td>\n",
              "      <td>0.472838</td>\n",
              "      <td>-0.121237</td>\n",
              "      <td>0.097107</td>\n",
              "      <td>-135.603260</td>\n",
              "    </tr>\n",
              "    <tr>\n",
              "      <th>4</th>\n",
              "      <td>4588</td>\n",
              "      <td>-0.727326</td>\n",
              "      <td>-0.661078</td>\n",
              "      <td>-1.424625</td>\n",
              "      <td>-0.257360</td>\n",
              "      <td>0.300343</td>\n",
              "      <td>-1.341089</td>\n",
              "      <td>0.214863</td>\n",
              "      <td>0.847744</td>\n",
              "      <td>0.867810</td>\n",
              "      <td>-0.227972</td>\n",
              "      <td>-0.152051</td>\n",
              "      <td>0.432509</td>\n",
              "      <td>0.999427</td>\n",
              "      <td>1.670573</td>\n",
              "      <td>-1.498391</td>\n",
              "      <td>-189.366969</td>\n",
              "    </tr>\n",
              "    <tr>\n",
              "      <th>...</th>\n",
              "      <td>...</td>\n",
              "      <td>...</td>\n",
              "      <td>...</td>\n",
              "      <td>...</td>\n",
              "      <td>...</td>\n",
              "      <td>...</td>\n",
              "      <td>...</td>\n",
              "      <td>...</td>\n",
              "      <td>...</td>\n",
              "      <td>...</td>\n",
              "      <td>...</td>\n",
              "      <td>...</td>\n",
              "      <td>...</td>\n",
              "      <td>...</td>\n",
              "      <td>...</td>\n",
              "      <td>...</td>\n",
              "      <td>...</td>\n",
              "    </tr>\n",
              "    <tr>\n",
              "      <th>3495</th>\n",
              "      <td>4993</td>\n",
              "      <td>-0.152975</td>\n",
              "      <td>0.825572</td>\n",
              "      <td>0.596337</td>\n",
              "      <td>1.046507</td>\n",
              "      <td>1.308161</td>\n",
              "      <td>0.191374</td>\n",
              "      <td>-0.634706</td>\n",
              "      <td>0.388242</td>\n",
              "      <td>0.523714</td>\n",
              "      <td>-2.476237</td>\n",
              "      <td>-1.723415</td>\n",
              "      <td>0.016356</td>\n",
              "      <td>1.556246</td>\n",
              "      <td>-0.157179</td>\n",
              "      <td>-0.332221</td>\n",
              "      <td>141.978713</td>\n",
              "    </tr>\n",
              "    <tr>\n",
              "      <th>3496</th>\n",
              "      <td>1167</td>\n",
              "      <td>0.245504</td>\n",
              "      <td>2.522942</td>\n",
              "      <td>-1.254393</td>\n",
              "      <td>0.568768</td>\n",
              "      <td>-0.005566</td>\n",
              "      <td>2.008976</td>\n",
              "      <td>-0.704020</td>\n",
              "      <td>-0.738254</td>\n",
              "      <td>-0.286095</td>\n",
              "      <td>-0.550128</td>\n",
              "      <td>-0.629068</td>\n",
              "      <td>0.428988</td>\n",
              "      <td>1.418962</td>\n",
              "      <td>2.328272</td>\n",
              "      <td>0.233636</td>\n",
              "      <td>472.531391</td>\n",
              "    </tr>\n",
              "    <tr>\n",
              "      <th>3497</th>\n",
              "      <td>2625</td>\n",
              "      <td>1.061575</td>\n",
              "      <td>-0.302774</td>\n",
              "      <td>-0.744423</td>\n",
              "      <td>0.154822</td>\n",
              "      <td>0.687699</td>\n",
              "      <td>0.182628</td>\n",
              "      <td>-0.138102</td>\n",
              "      <td>-0.782006</td>\n",
              "      <td>0.249738</td>\n",
              "      <td>-0.497430</td>\n",
              "      <td>0.435922</td>\n",
              "      <td>0.297999</td>\n",
              "      <td>1.000359</td>\n",
              "      <td>-0.121008</td>\n",
              "      <td>-0.541310</td>\n",
              "      <td>81.404549</td>\n",
              "    </tr>\n",
              "    <tr>\n",
              "      <th>3498</th>\n",
              "      <td>2570</td>\n",
              "      <td>-1.048860</td>\n",
              "      <td>-0.997733</td>\n",
              "      <td>0.169860</td>\n",
              "      <td>-0.524097</td>\n",
              "      <td>1.293208</td>\n",
              "      <td>-1.037454</td>\n",
              "      <td>-0.500190</td>\n",
              "      <td>-1.322410</td>\n",
              "      <td>2.426024</td>\n",
              "      <td>0.796517</td>\n",
              "      <td>0.910882</td>\n",
              "      <td>0.450408</td>\n",
              "      <td>-0.046442</td>\n",
              "      <td>-0.904001</td>\n",
              "      <td>0.371860</td>\n",
              "      <td>42.969778</td>\n",
              "    </tr>\n",
              "    <tr>\n",
              "      <th>3499</th>\n",
              "      <td>4319</td>\n",
              "      <td>-0.636745</td>\n",
              "      <td>1.610594</td>\n",
              "      <td>-0.479360</td>\n",
              "      <td>-0.492538</td>\n",
              "      <td>1.867604</td>\n",
              "      <td>0.057302</td>\n",
              "      <td>-1.083570</td>\n",
              "      <td>-0.081259</td>\n",
              "      <td>0.674485</td>\n",
              "      <td>-0.705512</td>\n",
              "      <td>-1.936613</td>\n",
              "      <td>1.490240</td>\n",
              "      <td>-0.524179</td>\n",
              "      <td>1.068470</td>\n",
              "      <td>0.082079</td>\n",
              "      <td>177.600264</td>\n",
              "    </tr>\n",
              "  </tbody>\n",
              "</table>\n",
              "<p>3500 rows × 17 columns</p>\n",
              "</div>\n",
              "      <button class=\"colab-df-convert\" onclick=\"convertToInteractive('df-25f814a1-fb1d-4b5c-a426-30c7b70d86a8')\"\n",
              "              title=\"Convert this dataframe to an interactive table.\"\n",
              "              style=\"display:none;\">\n",
              "        \n",
              "  <svg xmlns=\"http://www.w3.org/2000/svg\" height=\"24px\"viewBox=\"0 0 24 24\"\n",
              "       width=\"24px\">\n",
              "    <path d=\"M0 0h24v24H0V0z\" fill=\"none\"/>\n",
              "    <path d=\"M18.56 5.44l.94 2.06.94-2.06 2.06-.94-2.06-.94-.94-2.06-.94 2.06-2.06.94zm-11 1L8.5 8.5l.94-2.06 2.06-.94-2.06-.94L8.5 2.5l-.94 2.06-2.06.94zm10 10l.94 2.06.94-2.06 2.06-.94-2.06-.94-.94-2.06-.94 2.06-2.06.94z\"/><path d=\"M17.41 7.96l-1.37-1.37c-.4-.4-.92-.59-1.43-.59-.52 0-1.04.2-1.43.59L10.3 9.45l-7.72 7.72c-.78.78-.78 2.05 0 2.83L4 21.41c.39.39.9.59 1.41.59.51 0 1.02-.2 1.41-.59l7.78-7.78 2.81-2.81c.8-.78.8-2.07 0-2.86zM5.41 20L4 18.59l7.72-7.72 1.47 1.35L5.41 20z\"/>\n",
              "  </svg>\n",
              "      </button>\n",
              "      \n",
              "  <style>\n",
              "    .colab-df-container {\n",
              "      display:flex;\n",
              "      flex-wrap:wrap;\n",
              "      gap: 12px;\n",
              "    }\n",
              "\n",
              "    .colab-df-convert {\n",
              "      background-color: #E8F0FE;\n",
              "      border: none;\n",
              "      border-radius: 50%;\n",
              "      cursor: pointer;\n",
              "      display: none;\n",
              "      fill: #1967D2;\n",
              "      height: 32px;\n",
              "      padding: 0 0 0 0;\n",
              "      width: 32px;\n",
              "    }\n",
              "\n",
              "    .colab-df-convert:hover {\n",
              "      background-color: #E2EBFA;\n",
              "      box-shadow: 0px 1px 2px rgba(60, 64, 67, 0.3), 0px 1px 3px 1px rgba(60, 64, 67, 0.15);\n",
              "      fill: #174EA6;\n",
              "    }\n",
              "\n",
              "    [theme=dark] .colab-df-convert {\n",
              "      background-color: #3B4455;\n",
              "      fill: #D2E3FC;\n",
              "    }\n",
              "\n",
              "    [theme=dark] .colab-df-convert:hover {\n",
              "      background-color: #434B5C;\n",
              "      box-shadow: 0px 1px 3px 1px rgba(0, 0, 0, 0.15);\n",
              "      filter: drop-shadow(0px 1px 2px rgba(0, 0, 0, 0.3));\n",
              "      fill: #FFFFFF;\n",
              "    }\n",
              "  </style>\n",
              "\n",
              "      <script>\n",
              "        const buttonEl =\n",
              "          document.querySelector('#df-25f814a1-fb1d-4b5c-a426-30c7b70d86a8 button.colab-df-convert');\n",
              "        buttonEl.style.display =\n",
              "          google.colab.kernel.accessAllowed ? 'block' : 'none';\n",
              "\n",
              "        async function convertToInteractive(key) {\n",
              "          const element = document.querySelector('#df-25f814a1-fb1d-4b5c-a426-30c7b70d86a8');\n",
              "          const dataTable =\n",
              "            await google.colab.kernel.invokeFunction('convertToInteractive',\n",
              "                                                     [key], {});\n",
              "          if (!dataTable) return;\n",
              "\n",
              "          const docLinkHtml = 'Like what you see? Visit the ' +\n",
              "            '<a target=\"_blank\" href=https://colab.research.google.com/notebooks/data_table.ipynb>data table notebook</a>'\n",
              "            + ' to learn more about interactive tables.';\n",
              "          element.innerHTML = '';\n",
              "          dataTable['output_type'] = 'display_data';\n",
              "          await google.colab.output.renderOutput(dataTable, element);\n",
              "          const docLink = document.createElement('div');\n",
              "          docLink.innerHTML = docLinkHtml;\n",
              "          element.appendChild(docLink);\n",
              "        }\n",
              "      </script>\n",
              "    </div>\n",
              "  </div>\n",
              "  "
            ],
            "text/plain": [
              "        id         a         b  ...         n         o           y\n",
              "0     1433  1.051215  0.694597  ...  1.627670 -0.287624   54.769288\n",
              "1     1844 -0.827997  0.398669  ... -0.062611  0.928272  -47.364309\n",
              "2     2433 -0.155385  2.087505  ... -0.064192  1.250374  486.137500\n",
              "3      736  2.800855 -2.293238  ... -0.121237  0.097107 -135.603260\n",
              "4     4588 -0.727326 -0.661078  ...  1.670573 -1.498391 -189.366969\n",
              "...    ...       ...       ...  ...       ...       ...         ...\n",
              "3495  4993 -0.152975  0.825572  ... -0.157179 -0.332221  141.978713\n",
              "3496  1167  0.245504  2.522942  ...  2.328272  0.233636  472.531391\n",
              "3497  2625  1.061575 -0.302774  ... -0.121008 -0.541310   81.404549\n",
              "3498  2570 -1.048860 -0.997733  ... -0.904001  0.371860   42.969778\n",
              "3499  4319 -0.636745  1.610594  ...  1.068470  0.082079  177.600264\n",
              "\n",
              "[3500 rows x 17 columns]"
            ]
          },
          "metadata": {},
          "execution_count": 185
        }
      ]
    },
    {
      "cell_type": "code",
      "source": [
        "test_data"
      ],
      "metadata": {
        "colab": {
          "base_uri": "https://localhost:8080/",
          "height": 487
        },
        "id": "1pe6xOcQqmZ1",
        "outputId": "058cf942-3088-45e9-8d5a-bfc47ae9e46e"
      },
      "execution_count": 186,
      "outputs": [
        {
          "output_type": "execute_result",
          "data": {
            "text/html": [
              "\n",
              "  <div id=\"df-cbcd9100-ac4a-4c09-9048-12d2e2050416\">\n",
              "    <div class=\"colab-df-container\">\n",
              "      <div>\n",
              "<style scoped>\n",
              "    .dataframe tbody tr th:only-of-type {\n",
              "        vertical-align: middle;\n",
              "    }\n",
              "\n",
              "    .dataframe tbody tr th {\n",
              "        vertical-align: top;\n",
              "    }\n",
              "\n",
              "    .dataframe thead th {\n",
              "        text-align: right;\n",
              "    }\n",
              "</style>\n",
              "<table border=\"1\" class=\"dataframe\">\n",
              "  <thead>\n",
              "    <tr style=\"text-align: right;\">\n",
              "      <th></th>\n",
              "      <th>id</th>\n",
              "      <th>a</th>\n",
              "      <th>b</th>\n",
              "      <th>c</th>\n",
              "      <th>d</th>\n",
              "      <th>e</th>\n",
              "      <th>f</th>\n",
              "      <th>g</th>\n",
              "      <th>h</th>\n",
              "      <th>i</th>\n",
              "      <th>j</th>\n",
              "      <th>k</th>\n",
              "      <th>l</th>\n",
              "      <th>m</th>\n",
              "      <th>n</th>\n",
              "      <th>o</th>\n",
              "    </tr>\n",
              "  </thead>\n",
              "  <tbody>\n",
              "    <tr>\n",
              "      <th>0</th>\n",
              "      <td>2604</td>\n",
              "      <td>-1.566097</td>\n",
              "      <td>0.530308</td>\n",
              "      <td>0.607435</td>\n",
              "      <td>0.703250</td>\n",
              "      <td>0.467452</td>\n",
              "      <td>0.568196</td>\n",
              "      <td>-0.141848</td>\n",
              "      <td>0.173070</td>\n",
              "      <td>-0.785875</td>\n",
              "      <td>1.584051</td>\n",
              "      <td>0.394330</td>\n",
              "      <td>-0.637516</td>\n",
              "      <td>0.708392</td>\n",
              "      <td>-0.403856</td>\n",
              "      <td>-0.076019</td>\n",
              "    </tr>\n",
              "    <tr>\n",
              "      <th>1</th>\n",
              "      <td>1022</td>\n",
              "      <td>1.096737</td>\n",
              "      <td>-1.451660</td>\n",
              "      <td>-1.366953</td>\n",
              "      <td>1.572040</td>\n",
              "      <td>0.499371</td>\n",
              "      <td>-0.410700</td>\n",
              "      <td>-0.723911</td>\n",
              "      <td>-0.603434</td>\n",
              "      <td>-0.409578</td>\n",
              "      <td>-1.772201</td>\n",
              "      <td>-0.329499</td>\n",
              "      <td>0.056781</td>\n",
              "      <td>0.231190</td>\n",
              "      <td>-0.109816</td>\n",
              "      <td>-0.807209</td>\n",
              "    </tr>\n",
              "    <tr>\n",
              "      <th>2</th>\n",
              "      <td>1317</td>\n",
              "      <td>1.508913</td>\n",
              "      <td>1.153763</td>\n",
              "      <td>-0.038875</td>\n",
              "      <td>-0.325633</td>\n",
              "      <td>0.398254</td>\n",
              "      <td>1.606450</td>\n",
              "      <td>2.598670</td>\n",
              "      <td>-1.240994</td>\n",
              "      <td>-0.887793</td>\n",
              "      <td>-0.056266</td>\n",
              "      <td>-0.933575</td>\n",
              "      <td>1.254013</td>\n",
              "      <td>0.751847</td>\n",
              "      <td>-0.818114</td>\n",
              "      <td>-0.443337</td>\n",
              "    </tr>\n",
              "    <tr>\n",
              "      <th>3</th>\n",
              "      <td>4930</td>\n",
              "      <td>0.817544</td>\n",
              "      <td>-0.927481</td>\n",
              "      <td>0.915520</td>\n",
              "      <td>-0.348949</td>\n",
              "      <td>0.653065</td>\n",
              "      <td>0.819643</td>\n",
              "      <td>1.628254</td>\n",
              "      <td>1.289084</td>\n",
              "      <td>0.243408</td>\n",
              "      <td>0.641636</td>\n",
              "      <td>-1.677426</td>\n",
              "      <td>0.687703</td>\n",
              "      <td>0.312228</td>\n",
              "      <td>0.172105</td>\n",
              "      <td>-0.213351</td>\n",
              "    </tr>\n",
              "    <tr>\n",
              "      <th>4</th>\n",
              "      <td>4666</td>\n",
              "      <td>0.467990</td>\n",
              "      <td>-3.065989</td>\n",
              "      <td>-0.279591</td>\n",
              "      <td>-0.474309</td>\n",
              "      <td>-1.706242</td>\n",
              "      <td>0.679112</td>\n",
              "      <td>-0.331471</td>\n",
              "      <td>0.784615</td>\n",
              "      <td>1.375460</td>\n",
              "      <td>0.014742</td>\n",
              "      <td>2.435089</td>\n",
              "      <td>1.353713</td>\n",
              "      <td>1.259272</td>\n",
              "      <td>1.096178</td>\n",
              "      <td>-0.255657</td>\n",
              "    </tr>\n",
              "    <tr>\n",
              "      <th>...</th>\n",
              "      <td>...</td>\n",
              "      <td>...</td>\n",
              "      <td>...</td>\n",
              "      <td>...</td>\n",
              "      <td>...</td>\n",
              "      <td>...</td>\n",
              "      <td>...</td>\n",
              "      <td>...</td>\n",
              "      <td>...</td>\n",
              "      <td>...</td>\n",
              "      <td>...</td>\n",
              "      <td>...</td>\n",
              "      <td>...</td>\n",
              "      <td>...</td>\n",
              "      <td>...</td>\n",
              "      <td>...</td>\n",
              "    </tr>\n",
              "    <tr>\n",
              "      <th>1495</th>\n",
              "      <td>1187</td>\n",
              "      <td>0.796953</td>\n",
              "      <td>-1.215250</td>\n",
              "      <td>0.524413</td>\n",
              "      <td>0.615728</td>\n",
              "      <td>-0.172782</td>\n",
              "      <td>-1.872100</td>\n",
              "      <td>-2.436085</td>\n",
              "      <td>0.914225</td>\n",
              "      <td>-1.360965</td>\n",
              "      <td>-0.180509</td>\n",
              "      <td>-0.030879</td>\n",
              "      <td>0.519784</td>\n",
              "      <td>-1.274390</td>\n",
              "      <td>1.162032</td>\n",
              "      <td>0.278274</td>\n",
              "    </tr>\n",
              "    <tr>\n",
              "      <th>1496</th>\n",
              "      <td>1768</td>\n",
              "      <td>0.062187</td>\n",
              "      <td>-0.049169</td>\n",
              "      <td>-0.404797</td>\n",
              "      <td>-0.697006</td>\n",
              "      <td>1.432581</td>\n",
              "      <td>0.475088</td>\n",
              "      <td>-1.779195</td>\n",
              "      <td>-0.856280</td>\n",
              "      <td>1.039753</td>\n",
              "      <td>1.279009</td>\n",
              "      <td>0.074684</td>\n",
              "      <td>0.797047</td>\n",
              "      <td>1.210800</td>\n",
              "      <td>-1.041524</td>\n",
              "      <td>-0.844547</td>\n",
              "    </tr>\n",
              "    <tr>\n",
              "      <th>1497</th>\n",
              "      <td>1295</td>\n",
              "      <td>0.497745</td>\n",
              "      <td>1.164976</td>\n",
              "      <td>1.229091</td>\n",
              "      <td>0.789178</td>\n",
              "      <td>-0.510197</td>\n",
              "      <td>-0.352692</td>\n",
              "      <td>-0.743424</td>\n",
              "      <td>-1.618675</td>\n",
              "      <td>0.129767</td>\n",
              "      <td>0.829669</td>\n",
              "      <td>-1.225633</td>\n",
              "      <td>-0.810606</td>\n",
              "      <td>-1.016717</td>\n",
              "      <td>-0.005243</td>\n",
              "      <td>0.099763</td>\n",
              "    </tr>\n",
              "    <tr>\n",
              "      <th>1498</th>\n",
              "      <td>1858</td>\n",
              "      <td>2.776596</td>\n",
              "      <td>-0.669474</td>\n",
              "      <td>0.905856</td>\n",
              "      <td>0.507202</td>\n",
              "      <td>0.492340</td>\n",
              "      <td>0.626459</td>\n",
              "      <td>-0.123224</td>\n",
              "      <td>-0.102452</td>\n",
              "      <td>-0.816922</td>\n",
              "      <td>-0.609055</td>\n",
              "      <td>0.376619</td>\n",
              "      <td>0.327666</td>\n",
              "      <td>-0.066595</td>\n",
              "      <td>0.885965</td>\n",
              "      <td>-1.150266</td>\n",
              "    </tr>\n",
              "    <tr>\n",
              "      <th>1499</th>\n",
              "      <td>3912</td>\n",
              "      <td>0.848738</td>\n",
              "      <td>0.589443</td>\n",
              "      <td>-1.188045</td>\n",
              "      <td>1.599510</td>\n",
              "      <td>0.872929</td>\n",
              "      <td>0.153962</td>\n",
              "      <td>0.498344</td>\n",
              "      <td>0.469667</td>\n",
              "      <td>-2.362704</td>\n",
              "      <td>-2.319766</td>\n",
              "      <td>-1.541155</td>\n",
              "      <td>-0.465975</td>\n",
              "      <td>-0.813718</td>\n",
              "      <td>-1.289712</td>\n",
              "      <td>1.058867</td>\n",
              "    </tr>\n",
              "  </tbody>\n",
              "</table>\n",
              "<p>1500 rows × 16 columns</p>\n",
              "</div>\n",
              "      <button class=\"colab-df-convert\" onclick=\"convertToInteractive('df-cbcd9100-ac4a-4c09-9048-12d2e2050416')\"\n",
              "              title=\"Convert this dataframe to an interactive table.\"\n",
              "              style=\"display:none;\">\n",
              "        \n",
              "  <svg xmlns=\"http://www.w3.org/2000/svg\" height=\"24px\"viewBox=\"0 0 24 24\"\n",
              "       width=\"24px\">\n",
              "    <path d=\"M0 0h24v24H0V0z\" fill=\"none\"/>\n",
              "    <path d=\"M18.56 5.44l.94 2.06.94-2.06 2.06-.94-2.06-.94-.94-2.06-.94 2.06-2.06.94zm-11 1L8.5 8.5l.94-2.06 2.06-.94-2.06-.94L8.5 2.5l-.94 2.06-2.06.94zm10 10l.94 2.06.94-2.06 2.06-.94-2.06-.94-.94-2.06-.94 2.06-2.06.94z\"/><path d=\"M17.41 7.96l-1.37-1.37c-.4-.4-.92-.59-1.43-.59-.52 0-1.04.2-1.43.59L10.3 9.45l-7.72 7.72c-.78.78-.78 2.05 0 2.83L4 21.41c.39.39.9.59 1.41.59.51 0 1.02-.2 1.41-.59l7.78-7.78 2.81-2.81c.8-.78.8-2.07 0-2.86zM5.41 20L4 18.59l7.72-7.72 1.47 1.35L5.41 20z\"/>\n",
              "  </svg>\n",
              "      </button>\n",
              "      \n",
              "  <style>\n",
              "    .colab-df-container {\n",
              "      display:flex;\n",
              "      flex-wrap:wrap;\n",
              "      gap: 12px;\n",
              "    }\n",
              "\n",
              "    .colab-df-convert {\n",
              "      background-color: #E8F0FE;\n",
              "      border: none;\n",
              "      border-radius: 50%;\n",
              "      cursor: pointer;\n",
              "      display: none;\n",
              "      fill: #1967D2;\n",
              "      height: 32px;\n",
              "      padding: 0 0 0 0;\n",
              "      width: 32px;\n",
              "    }\n",
              "\n",
              "    .colab-df-convert:hover {\n",
              "      background-color: #E2EBFA;\n",
              "      box-shadow: 0px 1px 2px rgba(60, 64, 67, 0.3), 0px 1px 3px 1px rgba(60, 64, 67, 0.15);\n",
              "      fill: #174EA6;\n",
              "    }\n",
              "\n",
              "    [theme=dark] .colab-df-convert {\n",
              "      background-color: #3B4455;\n",
              "      fill: #D2E3FC;\n",
              "    }\n",
              "\n",
              "    [theme=dark] .colab-df-convert:hover {\n",
              "      background-color: #434B5C;\n",
              "      box-shadow: 0px 1px 3px 1px rgba(0, 0, 0, 0.15);\n",
              "      filter: drop-shadow(0px 1px 2px rgba(0, 0, 0, 0.3));\n",
              "      fill: #FFFFFF;\n",
              "    }\n",
              "  </style>\n",
              "\n",
              "      <script>\n",
              "        const buttonEl =\n",
              "          document.querySelector('#df-cbcd9100-ac4a-4c09-9048-12d2e2050416 button.colab-df-convert');\n",
              "        buttonEl.style.display =\n",
              "          google.colab.kernel.accessAllowed ? 'block' : 'none';\n",
              "\n",
              "        async function convertToInteractive(key) {\n",
              "          const element = document.querySelector('#df-cbcd9100-ac4a-4c09-9048-12d2e2050416');\n",
              "          const dataTable =\n",
              "            await google.colab.kernel.invokeFunction('convertToInteractive',\n",
              "                                                     [key], {});\n",
              "          if (!dataTable) return;\n",
              "\n",
              "          const docLinkHtml = 'Like what you see? Visit the ' +\n",
              "            '<a target=\"_blank\" href=https://colab.research.google.com/notebooks/data_table.ipynb>data table notebook</a>'\n",
              "            + ' to learn more about interactive tables.';\n",
              "          element.innerHTML = '';\n",
              "          dataTable['output_type'] = 'display_data';\n",
              "          await google.colab.output.renderOutput(dataTable, element);\n",
              "          const docLink = document.createElement('div');\n",
              "          docLink.innerHTML = docLinkHtml;\n",
              "          element.appendChild(docLink);\n",
              "        }\n",
              "      </script>\n",
              "    </div>\n",
              "  </div>\n",
              "  "
            ],
            "text/plain": [
              "        id         a         b  ...         m         n         o\n",
              "0     2604 -1.566097  0.530308  ...  0.708392 -0.403856 -0.076019\n",
              "1     1022  1.096737 -1.451660  ...  0.231190 -0.109816 -0.807209\n",
              "2     1317  1.508913  1.153763  ...  0.751847 -0.818114 -0.443337\n",
              "3     4930  0.817544 -0.927481  ...  0.312228  0.172105 -0.213351\n",
              "4     4666  0.467990 -3.065989  ...  1.259272  1.096178 -0.255657\n",
              "...    ...       ...       ...  ...       ...       ...       ...\n",
              "1495  1187  0.796953 -1.215250  ... -1.274390  1.162032  0.278274\n",
              "1496  1768  0.062187 -0.049169  ...  1.210800 -1.041524 -0.844547\n",
              "1497  1295  0.497745  1.164976  ... -1.016717 -0.005243  0.099763\n",
              "1498  1858  2.776596 -0.669474  ... -0.066595  0.885965 -1.150266\n",
              "1499  3912  0.848738  0.589443  ... -0.813718 -1.289712  1.058867\n",
              "\n",
              "[1500 rows x 16 columns]"
            ]
          },
          "metadata": {},
          "execution_count": 186
        }
      ]
    },
    {
      "cell_type": "code",
      "source": [
        "x = train_data[['a',\"b\", \"c\",'d','e','f','g','h','i','j','k','l','m','n','o','id']]\n",
        "y = train_data[[\"y\"]]"
      ],
      "metadata": {
        "id": "HZEWU_deqB4q"
      },
      "execution_count": 187,
      "outputs": []
    },
    {
      "cell_type": "code",
      "source": [
        "x_train, x_test, y_train, y_test = sklearn.model_selection.train_test_split(x, y, test_size=0.2, random_state = 124)"
      ],
      "metadata": {
        "id": "EPDLrAPIrpdy"
      },
      "execution_count": 188,
      "outputs": []
    },
    {
      "cell_type": "code",
      "source": [
        "model=LinearRegression(fit_intercept=True, n_jobs=None, normalize=False)\n",
        "model.fit(x_train,y_train)\n",
        "model.score(x_test,y_test)"
      ],
      "metadata": {
        "colab": {
          "base_uri": "https://localhost:8080/"
        },
        "id": "40oLI4TRrcgP",
        "outputId": "6b587393-37ce-4091-f7c5-71c87b0c2ae8"
      },
      "execution_count": 189,
      "outputs": [
        {
          "output_type": "stream",
          "name": "stderr",
          "text": [
            "/usr/local/lib/python3.7/dist-packages/sklearn/linear_model/_base.py:155: FutureWarning: 'normalize' was deprecated in version 1.0 and will be removed in 1.2. Please leave the normalize parameter to its default value to silence this warning. The default behavior of this estimator is to not do any normalization. If normalization is needed please use sklearn.preprocessing.StandardScaler instead.\n",
            "  FutureWarning,\n"
          ]
        },
        {
          "output_type": "execute_result",
          "data": {
            "text/plain": [
              "0.9999959014058234"
            ]
          },
          "metadata": {},
          "execution_count": 189
        }
      ]
    },
    {
      "cell_type": "code",
      "source": [
        "model.score(x_test,y_test)"
      ],
      "metadata": {
        "colab": {
          "base_uri": "https://localhost:8080/"
        },
        "id": "xSmF8qB-YSS6",
        "outputId": "fc07dcf0-eaaf-4b9d-966f-9c8b08de39c4"
      },
      "execution_count": 184,
      "outputs": [
        {
          "output_type": "execute_result",
          "data": {
            "text/plain": [
              "0.9999959014058234"
            ]
          },
          "metadata": {},
          "execution_count": 184
        }
      ]
    },
    {
      "cell_type": "code",
      "source": [
        "sample_test=test_data[['a',\"b\", \"c\",'d','e','f','g','h','i','j','k','l','m','n','o','id']]\n"
      ],
      "metadata": {
        "id": "Gp5hDqKSBqYI"
      },
      "execution_count": 159,
      "outputs": []
    },
    {
      "cell_type": "code",
      "source": [
        "finaly=model.predict(sample_test)"
      ],
      "metadata": {
        "id": "mkkbIJvGAeS9"
      },
      "execution_count": 122,
      "outputs": []
    },
    {
      "cell_type": "code",
      "source": [
        "finaly"
      ],
      "metadata": {
        "colab": {
          "base_uri": "https://localhost:8080/"
        },
        "id": "uzQlRAy4B50D",
        "outputId": "af6fe2b0-52b0-4089-9898-b6379ab1d983"
      },
      "execution_count": 123,
      "outputs": [
        {
          "output_type": "execute_result",
          "data": {
            "text/plain": [
              "array([[ 189.53559137],\n",
              "       [-356.96817229],\n",
              "       [ 426.70217814],\n",
              "       ...,\n",
              "       [ 114.17001582],\n",
              "       [ 100.35422202],\n",
              "       [-357.70338399]])"
            ]
          },
          "metadata": {},
          "execution_count": 123
        }
      ]
    },
    {
      "cell_type": "code",
      "source": [
        "import numpy as np\n",
        "  \n",
        "ini_array1 = np.array(finaly)\n",
        "  \n",
        "# printing initial arrays\n",
        "print(\"initial array\", str(ini_array1))\n",
        "  \n",
        "# Multiplying arrays\n",
        "result = ini_array1.flatten()\n",
        "  \n",
        "# printing result\n",
        "print(\"New resulting array: \", result)"
      ],
      "metadata": {
        "colab": {
          "base_uri": "https://localhost:8080/"
        },
        "id": "xe6Nu0Q8Zkhi",
        "outputId": "d7f838f1-0ee5-41ec-ec43-cac13dc0d29d"
      },
      "execution_count": 124,
      "outputs": [
        {
          "output_type": "stream",
          "name": "stdout",
          "text": [
            "initial array [[ 189.53559137]\n",
            " [-356.96817229]\n",
            " [ 426.70217814]\n",
            " ...\n",
            " [ 114.17001582]\n",
            " [ 100.35422202]\n",
            " [-357.70338399]]\n",
            "New resulting array:  [ 189.53559137 -356.96817229  426.70217814 ...  114.17001582  100.35422202\n",
            " -357.70338399]\n"
          ]
        }
      ]
    },
    {
      "cell_type": "code",
      "source": [
        "data = {'id': test_data['id'],\n",
        "        'y': result \n",
        "        }\n",
        "\n",
        "df = pd.DataFrame(data)\n",
        "\n",
        "print (df)"
      ],
      "metadata": {
        "colab": {
          "base_uri": "https://localhost:8080/"
        },
        "id": "aXqHAWvdCKhq",
        "outputId": "a055de68-371a-48c2-d028-5b8cec7ec87c"
      },
      "execution_count": 125,
      "outputs": [
        {
          "output_type": "stream",
          "name": "stdout",
          "text": [
            "        id           y\n",
            "0     2604  189.535591\n",
            "1     1022 -356.968172\n",
            "2     1317  426.702178\n",
            "3     4930  253.362646\n",
            "4     4666   37.291386\n",
            "...    ...         ...\n",
            "1495  1187 -367.803935\n",
            "1496  1768  359.657634\n",
            "1497  1295  114.170016\n",
            "1498  1858  100.354222\n",
            "1499  3912 -357.703384\n",
            "\n",
            "[1500 rows x 2 columns]\n"
          ]
        }
      ]
    },
    {
      "cell_type": "code",
      "source": [
        "df"
      ],
      "metadata": {
        "colab": {
          "base_uri": "https://localhost:8080/",
          "height": 423
        },
        "id": "rpwIpf6nConK",
        "outputId": "ae514113-6563-4866-afe8-43f4d4fb09c0"
      },
      "execution_count": 126,
      "outputs": [
        {
          "output_type": "execute_result",
          "data": {
            "text/html": [
              "\n",
              "  <div id=\"df-36ed7bb3-98b2-459b-b23b-30413bfa4bd6\">\n",
              "    <div class=\"colab-df-container\">\n",
              "      <div>\n",
              "<style scoped>\n",
              "    .dataframe tbody tr th:only-of-type {\n",
              "        vertical-align: middle;\n",
              "    }\n",
              "\n",
              "    .dataframe tbody tr th {\n",
              "        vertical-align: top;\n",
              "    }\n",
              "\n",
              "    .dataframe thead th {\n",
              "        text-align: right;\n",
              "    }\n",
              "</style>\n",
              "<table border=\"1\" class=\"dataframe\">\n",
              "  <thead>\n",
              "    <tr style=\"text-align: right;\">\n",
              "      <th></th>\n",
              "      <th>id</th>\n",
              "      <th>y</th>\n",
              "    </tr>\n",
              "  </thead>\n",
              "  <tbody>\n",
              "    <tr>\n",
              "      <th>0</th>\n",
              "      <td>2604</td>\n",
              "      <td>189.535591</td>\n",
              "    </tr>\n",
              "    <tr>\n",
              "      <th>1</th>\n",
              "      <td>1022</td>\n",
              "      <td>-356.968172</td>\n",
              "    </tr>\n",
              "    <tr>\n",
              "      <th>2</th>\n",
              "      <td>1317</td>\n",
              "      <td>426.702178</td>\n",
              "    </tr>\n",
              "    <tr>\n",
              "      <th>3</th>\n",
              "      <td>4930</td>\n",
              "      <td>253.362646</td>\n",
              "    </tr>\n",
              "    <tr>\n",
              "      <th>4</th>\n",
              "      <td>4666</td>\n",
              "      <td>37.291386</td>\n",
              "    </tr>\n",
              "    <tr>\n",
              "      <th>...</th>\n",
              "      <td>...</td>\n",
              "      <td>...</td>\n",
              "    </tr>\n",
              "    <tr>\n",
              "      <th>1495</th>\n",
              "      <td>1187</td>\n",
              "      <td>-367.803935</td>\n",
              "    </tr>\n",
              "    <tr>\n",
              "      <th>1496</th>\n",
              "      <td>1768</td>\n",
              "      <td>359.657634</td>\n",
              "    </tr>\n",
              "    <tr>\n",
              "      <th>1497</th>\n",
              "      <td>1295</td>\n",
              "      <td>114.170016</td>\n",
              "    </tr>\n",
              "    <tr>\n",
              "      <th>1498</th>\n",
              "      <td>1858</td>\n",
              "      <td>100.354222</td>\n",
              "    </tr>\n",
              "    <tr>\n",
              "      <th>1499</th>\n",
              "      <td>3912</td>\n",
              "      <td>-357.703384</td>\n",
              "    </tr>\n",
              "  </tbody>\n",
              "</table>\n",
              "<p>1500 rows × 2 columns</p>\n",
              "</div>\n",
              "      <button class=\"colab-df-convert\" onclick=\"convertToInteractive('df-36ed7bb3-98b2-459b-b23b-30413bfa4bd6')\"\n",
              "              title=\"Convert this dataframe to an interactive table.\"\n",
              "              style=\"display:none;\">\n",
              "        \n",
              "  <svg xmlns=\"http://www.w3.org/2000/svg\" height=\"24px\"viewBox=\"0 0 24 24\"\n",
              "       width=\"24px\">\n",
              "    <path d=\"M0 0h24v24H0V0z\" fill=\"none\"/>\n",
              "    <path d=\"M18.56 5.44l.94 2.06.94-2.06 2.06-.94-2.06-.94-.94-2.06-.94 2.06-2.06.94zm-11 1L8.5 8.5l.94-2.06 2.06-.94-2.06-.94L8.5 2.5l-.94 2.06-2.06.94zm10 10l.94 2.06.94-2.06 2.06-.94-2.06-.94-.94-2.06-.94 2.06-2.06.94z\"/><path d=\"M17.41 7.96l-1.37-1.37c-.4-.4-.92-.59-1.43-.59-.52 0-1.04.2-1.43.59L10.3 9.45l-7.72 7.72c-.78.78-.78 2.05 0 2.83L4 21.41c.39.39.9.59 1.41.59.51 0 1.02-.2 1.41-.59l7.78-7.78 2.81-2.81c.8-.78.8-2.07 0-2.86zM5.41 20L4 18.59l7.72-7.72 1.47 1.35L5.41 20z\"/>\n",
              "  </svg>\n",
              "      </button>\n",
              "      \n",
              "  <style>\n",
              "    .colab-df-container {\n",
              "      display:flex;\n",
              "      flex-wrap:wrap;\n",
              "      gap: 12px;\n",
              "    }\n",
              "\n",
              "    .colab-df-convert {\n",
              "      background-color: #E8F0FE;\n",
              "      border: none;\n",
              "      border-radius: 50%;\n",
              "      cursor: pointer;\n",
              "      display: none;\n",
              "      fill: #1967D2;\n",
              "      height: 32px;\n",
              "      padding: 0 0 0 0;\n",
              "      width: 32px;\n",
              "    }\n",
              "\n",
              "    .colab-df-convert:hover {\n",
              "      background-color: #E2EBFA;\n",
              "      box-shadow: 0px 1px 2px rgba(60, 64, 67, 0.3), 0px 1px 3px 1px rgba(60, 64, 67, 0.15);\n",
              "      fill: #174EA6;\n",
              "    }\n",
              "\n",
              "    [theme=dark] .colab-df-convert {\n",
              "      background-color: #3B4455;\n",
              "      fill: #D2E3FC;\n",
              "    }\n",
              "\n",
              "    [theme=dark] .colab-df-convert:hover {\n",
              "      background-color: #434B5C;\n",
              "      box-shadow: 0px 1px 3px 1px rgba(0, 0, 0, 0.15);\n",
              "      filter: drop-shadow(0px 1px 2px rgba(0, 0, 0, 0.3));\n",
              "      fill: #FFFFFF;\n",
              "    }\n",
              "  </style>\n",
              "\n",
              "      <script>\n",
              "        const buttonEl =\n",
              "          document.querySelector('#df-36ed7bb3-98b2-459b-b23b-30413bfa4bd6 button.colab-df-convert');\n",
              "        buttonEl.style.display =\n",
              "          google.colab.kernel.accessAllowed ? 'block' : 'none';\n",
              "\n",
              "        async function convertToInteractive(key) {\n",
              "          const element = document.querySelector('#df-36ed7bb3-98b2-459b-b23b-30413bfa4bd6');\n",
              "          const dataTable =\n",
              "            await google.colab.kernel.invokeFunction('convertToInteractive',\n",
              "                                                     [key], {});\n",
              "          if (!dataTable) return;\n",
              "\n",
              "          const docLinkHtml = 'Like what you see? Visit the ' +\n",
              "            '<a target=\"_blank\" href=https://colab.research.google.com/notebooks/data_table.ipynb>data table notebook</a>'\n",
              "            + ' to learn more about interactive tables.';\n",
              "          element.innerHTML = '';\n",
              "          dataTable['output_type'] = 'display_data';\n",
              "          await google.colab.output.renderOutput(dataTable, element);\n",
              "          const docLink = document.createElement('div');\n",
              "          docLink.innerHTML = docLinkHtml;\n",
              "          element.appendChild(docLink);\n",
              "        }\n",
              "      </script>\n",
              "    </div>\n",
              "  </div>\n",
              "  "
            ],
            "text/plain": [
              "        id           y\n",
              "0     2604  189.535591\n",
              "1     1022 -356.968172\n",
              "2     1317  426.702178\n",
              "3     4930  253.362646\n",
              "4     4666   37.291386\n",
              "...    ...         ...\n",
              "1495  1187 -367.803935\n",
              "1496  1768  359.657634\n",
              "1497  1295  114.170016\n",
              "1498  1858  100.354222\n",
              "1499  3912 -357.703384\n",
              "\n",
              "[1500 rows x 2 columns]"
            ]
          },
          "metadata": {},
          "execution_count": 126
        }
      ]
    },
    {
      "cell_type": "code",
      "source": [
        "df.to_csv('file_name11.csv')"
      ],
      "metadata": {
        "id": "Tv3tg6mvCsZj"
      },
      "execution_count": 127,
      "outputs": []
    },
    {
      "cell_type": "code",
      "source": [
        "regr_1 = DecisionTreeRegressor(max_depth=2)\n",
        "regr_1.fit(x_train,y_train)"
      ],
      "metadata": {
        "colab": {
          "base_uri": "https://localhost:8080/"
        },
        "id": "WN3ORA1qc6QF",
        "outputId": "110d0e2c-fc6a-441f-9169-62a03b392c79"
      },
      "execution_count": null,
      "outputs": [
        {
          "output_type": "execute_result",
          "data": {
            "text/plain": [
              "DecisionTreeRegressor(max_depth=2)"
            ]
          },
          "metadata": {},
          "execution_count": 75
        }
      ]
    },
    {
      "cell_type": "code",
      "source": [
        "regr_1.score(x_test,y_test)"
      ],
      "metadata": {
        "colab": {
          "base_uri": "https://localhost:8080/"
        },
        "id": "RwsiUu9RdEfj",
        "outputId": "4cfbd337-1dc0-42c0-b7a8-631555568559"
      },
      "execution_count": null,
      "outputs": [
        {
          "output_type": "execute_result",
          "data": {
            "text/plain": [
              "0.2621028811838352"
            ]
          },
          "metadata": {},
          "execution_count": 76
        }
      ]
    },
    {
      "cell_type": "code",
      "source": [
        "from sklearn.preprocessing import PolynomialFeatures\n",
        "from sklearn.linear_model import LinearRegression\n",
        "lin_regressor = LinearRegression()\n",
        "poly_regressor = PolynomialFeatures(degree = 2)\n",
        "X_poly = poly_regressor.fit_transform(x_train)\n",
        "poly_regressor.fit(X_poly, y_train)\n",
        "lin_reg_2 = LinearRegression()\n",
        "lin_reg_2.fit(X_poly, y_train)"
      ],
      "metadata": {
        "colab": {
          "base_uri": "https://localhost:8080/"
        },
        "id": "JiY5p2LZdyQd",
        "outputId": "eec39d90-3f08-4d40-a22b-bca357147197"
      },
      "execution_count": 128,
      "outputs": [
        {
          "output_type": "execute_result",
          "data": {
            "text/plain": [
              "LinearRegression()"
            ]
          },
          "metadata": {},
          "execution_count": 128
        }
      ]
    },
    {
      "cell_type": "code",
      "source": [
        "x_test_sample=poly_regressor.fit_transform(x_test)"
      ],
      "metadata": {
        "id": "QjStlBsufAZo"
      },
      "execution_count": 129,
      "outputs": []
    },
    {
      "cell_type": "code",
      "source": [
        "lin_reg_2.score(x_test_sample,y_test)"
      ],
      "metadata": {
        "colab": {
          "base_uri": "https://localhost:8080/"
        },
        "id": "b_6nKIROedGi",
        "outputId": "f4db6cbc-6ccd-4a05-9b9a-3f845c81b2be"
      },
      "execution_count": 130,
      "outputs": [
        {
          "output_type": "execute_result",
          "data": {
            "text/plain": [
              "0.9999956335760105"
            ]
          },
          "metadata": {},
          "execution_count": 130
        }
      ]
    },
    {
      "cell_type": "code",
      "source": [
        "trans_x=poly_regressor.fit_transform(sample_test)"
      ],
      "metadata": {
        "id": "5b9Fgha06nhO"
      },
      "execution_count": 91,
      "outputs": []
    },
    {
      "cell_type": "code",
      "source": [
        "fin=lin_reg_2.predict(trans_x)"
      ],
      "metadata": {
        "id": "WiJtw0ko6ghb"
      },
      "execution_count": 92,
      "outputs": []
    },
    {
      "cell_type": "code",
      "source": [
        "import numpy as np\n",
        "  \n",
        "ini_array1 = np.array(fin)\n",
        "  \n",
        "# printing initial arrays\n",
        "print(\"initial array\", str(ini_array1))\n",
        "  \n",
        "# Multiplying arrays\n",
        "result = ini_array1.flatten()\n",
        "  \n",
        "# printing result\n",
        "print(\"New resulting array: \", result)"
      ],
      "metadata": {
        "colab": {
          "base_uri": "https://localhost:8080/"
        },
        "id": "RCnQQ0Ob6yd6",
        "outputId": "bcbe7958-1ed5-44cc-b987-c65e9c37474a"
      },
      "execution_count": 93,
      "outputs": [
        {
          "output_type": "stream",
          "name": "stdout",
          "text": [
            "initial array [[ 189.57751465]\n",
            " [-356.94946289]\n",
            " [ 426.62518311]\n",
            " ...\n",
            " [ 114.16125488]\n",
            " [ 100.26916504]\n",
            " [-357.74725342]]\n",
            "New resulting array:  [ 189.57751465 -356.94946289  426.62518311 ...  114.16125488  100.26916504\n",
            " -357.74725342]\n"
          ]
        }
      ]
    },
    {
      "cell_type": "code",
      "source": [
        "data = {'id': test_data['id'],\n",
        "        'y': result \n",
        "        }\n",
        "\n",
        "df = pd.DataFrame(data)\n",
        "\n",
        "print (df)"
      ],
      "metadata": {
        "colab": {
          "base_uri": "https://localhost:8080/"
        },
        "id": "5wQc-fz466vK",
        "outputId": "02590c8a-5fca-4420-c995-8121786d772f"
      },
      "execution_count": 94,
      "outputs": [
        {
          "output_type": "stream",
          "name": "stdout",
          "text": [
            "        id           y\n",
            "0     2604  189.577515\n",
            "1     1022 -356.949463\n",
            "2     1317  426.625183\n",
            "3     4930  253.251038\n",
            "4     4666   37.120972\n",
            "...    ...         ...\n",
            "1495  1187 -367.639038\n",
            "1496  1768  359.743225\n",
            "1497  1295  114.161255\n",
            "1498  1858  100.269165\n",
            "1499  3912 -357.747253\n",
            "\n",
            "[1500 rows x 2 columns]\n"
          ]
        }
      ]
    },
    {
      "cell_type": "code",
      "source": [
        "df.to_csv('file_name10.csv')"
      ],
      "metadata": {
        "id": "73HgMYvY6-ih"
      },
      "execution_count": 96,
      "outputs": []
    },
    {
      "cell_type": "code",
      "source": [
        "lr=LinearRegression()\n",
        "lr.fit(x_train,y_train)"
      ],
      "metadata": {
        "colab": {
          "base_uri": "https://localhost:8080/"
        },
        "id": "OdvE37FyeptG",
        "outputId": "5ae14e2a-117e-459e-9e9e-25a746c3e130"
      },
      "execution_count": 171,
      "outputs": [
        {
          "output_type": "execute_result",
          "data": {
            "text/plain": [
              "LinearRegression()"
            ]
          },
          "metadata": {},
          "execution_count": 171
        }
      ]
    },
    {
      "cell_type": "code",
      "source": [
        "lr.score(x_test,y_test)"
      ],
      "metadata": {
        "colab": {
          "base_uri": "https://localhost:8080/"
        },
        "id": "ysdanff3faBX",
        "outputId": "39b2a7b6-dd52-4c87-bfc3-3b99b172941f"
      },
      "execution_count": 68,
      "outputs": [
        {
          "output_type": "execute_result",
          "data": {
            "text/plain": [
              "0.9999958980556157"
            ]
          },
          "metadata": {},
          "execution_count": 68
        }
      ]
    },
    {
      "cell_type": "code",
      "source": [
        "# grid search linear regression model on the auto insurance dataset\n",
        "from pandas import read_csv\n",
        "from sklearn.linear_model import Ridge\n",
        "from sklearn.model_selection import RepeatedKFold\n",
        "from sklearn.model_selection import GridSearchCV\n",
        "model = Ridge()\n",
        "# define evaluation\n",
        "cv = RepeatedKFold(n_splits=10, n_repeats=3, random_state=1)\n",
        "# define search space\n",
        "space = dict()\n",
        "space['solver'] = ['svd', 'cholesky', 'lsqr', 'sag']\n",
        "space['alpha'] = [1e-5, 1e-4, 1e-3, 1e-2, 1e-1, 1, 10, 100]\n",
        "space['fit_intercept'] = [True, False]\n",
        "space['normalize'] = [True, False]\n",
        "# define search\n",
        "search = GridSearchCV(model, space, scoring='neg_mean_absolute_error', n_jobs=-1, cv=cv)\n",
        "# execute search\n",
        "result = search.fit(x_train,y_train)\n",
        "# summarize result\n",
        "print('Best Score: %s' % result.best_score_)\n",
        "print('Best Hyperparameters: %s' % result.best_params_)\n"
      ],
      "metadata": {
        "colab": {
          "base_uri": "https://localhost:8080/"
        },
        "id": "EhhEJfXlDdgj",
        "outputId": "daded14a-9c6e-4357-f828-358b874377de"
      },
      "execution_count": 172,
      "outputs": [
        {
          "output_type": "stream",
          "name": "stdout",
          "text": [
            "Best Score: -0.4073724903228244\n",
            "Best Hyperparameters: {'alpha': 0.1, 'fit_intercept': False, 'normalize': True, 'solver': 'svd'}\n"
          ]
        },
        {
          "output_type": "stream",
          "name": "stderr",
          "text": [
            "/usr/local/lib/python3.7/dist-packages/sklearn/linear_model/_base.py:145: FutureWarning: 'normalize' was deprecated in version 1.0 and will be removed in 1.2.\n",
            "If you wish to scale the data, use Pipeline with a StandardScaler in a preprocessing stage. To reproduce the previous behavior:\n",
            "\n",
            "from sklearn.pipeline import make_pipeline\n",
            "\n",
            "model = make_pipeline(StandardScaler(with_mean=False), Ridge())\n",
            "\n",
            "If you wish to pass a sample_weight parameter, you need to pass it as a fit parameter to each step of the pipeline as follows:\n",
            "\n",
            "kwargs = {s[0] + '__sample_weight': sample_weight for s in model.steps}\n",
            "model.fit(X, y, **kwargs)\n",
            "\n",
            "Set parameter alpha to: original_alpha * n_samples. \n",
            "  FutureWarning,\n"
          ]
        }
      ]
    },
    {
      "cell_type": "code",
      "source": [
        "model1= Ridge(alpha= 0.1, fit_intercept=False, normalize= True, solver= 'svd')"
      ],
      "metadata": {
        "id": "M-YIr8xXH3Ia"
      },
      "execution_count": 222,
      "outputs": []
    },
    {
      "cell_type": "code",
      "source": [
        "model1.fit(x_train,y_train)\n",
        "model1.score(x_test,y_test)"
      ],
      "metadata": {
        "colab": {
          "base_uri": "https://localhost:8080/"
        },
        "id": "-GiOG4QnIBHx",
        "outputId": "97c75f2c-1d69-40bf-e7a2-0ef5a8ad507f"
      },
      "execution_count": 223,
      "outputs": [
        {
          "output_type": "stream",
          "name": "stderr",
          "text": [
            "/usr/local/lib/python3.7/dist-packages/sklearn/linear_model/_base.py:145: FutureWarning: 'normalize' was deprecated in version 1.0 and will be removed in 1.2.\n",
            "If you wish to scale the data, use Pipeline with a StandardScaler in a preprocessing stage. To reproduce the previous behavior:\n",
            "\n",
            "from sklearn.pipeline import make_pipeline\n",
            "\n",
            "model = make_pipeline(StandardScaler(with_mean=False), Ridge())\n",
            "\n",
            "If you wish to pass a sample_weight parameter, you need to pass it as a fit parameter to each step of the pipeline as follows:\n",
            "\n",
            "kwargs = {s[0] + '__sample_weight': sample_weight for s in model.steps}\n",
            "model.fit(X, y, **kwargs)\n",
            "\n",
            "Set parameter alpha to: original_alpha * n_samples. \n",
            "  FutureWarning,\n"
          ]
        },
        {
          "output_type": "execute_result",
          "data": {
            "text/plain": [
              "0.9999958982862512"
            ]
          },
          "metadata": {},
          "execution_count": 223
        }
      ]
    },
    {
      "cell_type": "code",
      "source": [
        "model1.score(x_test,y_test)"
      ],
      "metadata": {
        "colab": {
          "base_uri": "https://localhost:8080/"
        },
        "id": "ODFGH7KkIeS8",
        "outputId": "fc7bd70c-34a1-47aa-c4b4-9c52e76b1863"
      },
      "execution_count": 207,
      "outputs": [
        {
          "output_type": "execute_result",
          "data": {
            "text/plain": [
              "0.9999958802480977"
            ]
          },
          "metadata": {},
          "execution_count": 207
        }
      ]
    },
    {
      "cell_type": "code",
      "source": [
        "finaly=model1.predict(sample_test)"
      ],
      "metadata": {
        "id": "JnbolU0RI5WV"
      },
      "execution_count": 225,
      "outputs": []
    },
    {
      "cell_type": "code",
      "source": [
        "import numpy as np\n",
        "  \n",
        "ini_array1 = np.array(finaly)\n",
        "  \n",
        "# printing initial arrays\n",
        "print(\"initial array\", str(ini_array1))\n",
        "  \n",
        "# Multiplying arrays\n",
        "result = ini_array1.flatten()\n",
        "  \n",
        "# printing result\n",
        "print(\"New resulting array: \", result)"
      ],
      "metadata": {
        "colab": {
          "base_uri": "https://localhost:8080/"
        },
        "id": "mKrQC8ZJJxjl",
        "outputId": "485a9bff-9fe7-4e49-edc3-2902f4606f1b"
      },
      "execution_count": 226,
      "outputs": [
        {
          "output_type": "stream",
          "name": "stdout",
          "text": [
            "initial array [[ 189.53184321]\n",
            " [-356.94775369]\n",
            " [ 426.69427712]\n",
            " ...\n",
            " [ 114.17128354]\n",
            " [ 100.35533111]\n",
            " [-357.69109465]]\n",
            "New resulting array:  [ 189.53184321 -356.94775369  426.69427712 ...  114.17128354  100.35533111\n",
            " -357.69109465]\n"
          ]
        }
      ]
    },
    {
      "cell_type": "code",
      "source": [
        "data = {'id': test_data['id'],\n",
        "        'y': result \n",
        "        }\n",
        "\n",
        "df = pd.DataFrame(data)\n",
        "\n",
        "print (df)"
      ],
      "metadata": {
        "colab": {
          "base_uri": "https://localhost:8080/"
        },
        "id": "xwSV1nx0J0My",
        "outputId": "34e23e0e-da1c-44ff-d583-a801fa14b7d8"
      },
      "execution_count": 227,
      "outputs": [
        {
          "output_type": "stream",
          "name": "stdout",
          "text": [
            "        id           y\n",
            "0     2604  189.531843\n",
            "1     1022 -356.947754\n",
            "2     1317  426.694277\n",
            "3     4930  253.349486\n",
            "4     4666   37.285495\n",
            "...    ...         ...\n",
            "1495  1187 -367.783956\n",
            "1496  1768  359.648738\n",
            "1497  1295  114.171284\n",
            "1498  1858  100.355331\n",
            "1499  3912 -357.691095\n",
            "\n",
            "[1500 rows x 2 columns]\n"
          ]
        }
      ]
    },
    {
      "cell_type": "code",
      "source": [
        "df.to_csv('file_name12.csv')"
      ],
      "metadata": {
        "id": "Q2EFRBYiJ6iM"
      },
      "execution_count": 228,
      "outputs": []
    },
    {
      "cell_type": "code",
      "source": [
        ""
      ],
      "metadata": {
        "id": "HluRFhhmJ7jp"
      },
      "execution_count": null,
      "outputs": []
    }
  ]
}